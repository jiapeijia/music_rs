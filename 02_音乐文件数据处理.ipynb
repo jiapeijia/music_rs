{
 "cells": [
  {
   "cell_type": "code",
   "execution_count": 1,
   "metadata": {},
   "outputs": [],
   "source": [
    "import json\n",
    "import random\n",
    "import time\n",
    "import numpy as np\n",
    "import pickle"
   ]
  },
  {
   "cell_type": "code",
   "execution_count": 2,
   "metadata": {},
   "outputs": [],
   "source": [
    "def parse_playlist_2_song(in_playlist):\n",
    "    \"\"\"\n",
    "    将输入的歌单数据转换为推荐系统需要的数据，歌单数据为json格式<br/>\n",
    "    :param in_playlist: 输入的歌单数据，json格式\n",
    "    :return: 返回推荐系统我们需要的数据格式数据\n",
    "    \"\"\"\n",
    "    # 歌单数据转换为json格式 => json格式你可以认为就是一个key/value键值对, 和字典类似；当做是字典来操作\n",
    "    data = json.loads(in_playlist)\n",
    "\n",
    "    # 获取我们需要的数据\n",
    "    result_data = data['result']\n",
    "    # 1. 获取歌单数据\n",
    "    user_id = result_data['userId']\n",
    "    playlist_id = result_data['id']\n",
    "    playlist_name = result_data['name']\n",
    "    playlist_subscribed_count = result_data['subscribedCount']\n",
    "    playlist_play_count = result_data['playCount']\n",
    "    playlist_update_time = result_data['updateTime']\n",
    "\n",
    "    # 2. 过滤数据\n",
    "    if playlist_subscribed_count < 100 or playlist_play_count < 1000:\n",
    "        # 当订阅数目小于100或者播放数小于1000的时候，认为该歌单没有什么价值，是一个随便创建的歌单\n",
    "        return False\n",
    "\n",
    "    # 3. 获取歌单中的歌曲数据\n",
    "    song_info = ''\n",
    "    songs = result_data['tracks']\n",
    "    for song in songs:\n",
    "        try:\n",
    "            # 获取歌曲数据\n",
    "            song_id = song['id']\n",
    "            song_name = song['name'].strip()\n",
    "            song_popularity = song['popularity']\n",
    "\n",
    "            # 将数据进行一行数据\n",
    "            song_info += '\\t' + '::::'.join([str(song_id), song_name, str(song_popularity)])\n",
    "        except Exception as e:\n",
    "            # print(e)\n",
    "            pass\n",
    "\n",
    "    # 最终结果返回\n",
    "    return str(user_id) + \"##\" + str(playlist_id) + \"##\" + playlist_name + \"##\" + str(playlist_update_time) + \\\n",
    "           \"##\" + str(playlist_subscribed_count) + \"##\" + str(playlist_play_count) + song_info + \"\\n\"\n"
   ]
  },
  {
   "cell_type": "code",
   "execution_count": 3,
   "metadata": {},
   "outputs": [],
   "source": [
    "def parse_playlist_file(in_file, out_file):\n",
    "    \"\"\"\n",
    "    处理歌单数据，让歌单数据的格式符合推荐系统所需要的数据格式，并将最终数据输出到文件中\n",
    "    :param in_file: 输入的歌单数据文件路径\n",
    "    :param out_file:  输出的歌单处理后的结果数据\n",
    "    :return:\n",
    "    \"\"\"\n",
    "    with open(out_file, 'w', encoding='UTF-8') as writer:\n",
    "        with open(in_file, 'r', encoding='UTF-8') as reader:\n",
    "            for line in reader:\n",
    "                # 读取数据并处理成为结果\n",
    "                result = parse_playlist_2_song(line)\n",
    "\n",
    "                # 将处理成功的结果输出文件\n",
    "                if result:\n",
    "                    writer.writelines(result)\n"
   ]
  },
  {
   "cell_type": "code",
   "execution_count": 4,
   "metadata": {},
   "outputs": [],
   "source": [
    "def clip(x, lower_bound, upper_bound):\n",
    "    \"\"\"\n",
    "    截断操作，当x的值大于upper_bound的时候，返回upper_bound；当值小于lower_bound的时候，返回lower_bound；否则直接返回x\n",
    "    :param x:  需要判断的参数值\n",
    "    :param lower_bound:  下界\n",
    "    :param upper_bound:  上界\n",
    "    :return:\n",
    "    \"\"\"\n",
    "    return np.clip(x, lower_bound, upper_bound)\n",
    "\n",
    "def is_last_time(playlist_update_time, interval=31536000000):\n",
    "    '''\n",
    "    最近修改时间在一年以内的\n",
    "    '''\n",
    "    return int(time.time()) * 1000 - int(playlist_update_time) < interval"
   ]
  },
  {
   "cell_type": "code",
   "execution_count": 5,
   "metadata": {},
   "outputs": [],
   "source": [
    "def parse_playlist_song_rating(playlist_id, playlist_subscribed_count,\n",
    "                               playlist_play_count, playlist_update_time, song_info):\n",
    "    \"\"\"\n",
    "    将歌单数据和歌曲数据转换成为MovieLens的数据格式: 歌单id 歌曲id 评分 时间戳\n",
    "    :param playlist_id:  歌单id\n",
    "    :param playlist_subscribed_count: 歌单订阅次数\n",
    "    :param playlist_play_count: 歌单播放次数\n",
    "    :param playlist_update_time: 歌单最近更新时间\n",
    "    :param song_info: 歌曲信息\n",
    "    :return:\n",
    "    \"\"\"\n",
    "    try:\n",
    "        song_id, _, song_popularity = song_info.split('::::')\n",
    "        # 计算歌单对于歌曲的评分\n",
    "        # TODO: 实际工作中评分必须根据用户的行为来定\n",
    "        # 计算规则：使用歌曲的热度作为评分，如果订阅次数超过1000次并且播放次数超过1万次，同时最近修改时间在一年以内的，增加一个权重:1.1；否则设置权重为0.9.9\n",
    "        # 并将范围缩放到1-10；默认的热度范围为0-100\n",
    "        w = 0.9\n",
    "        if float(playlist_play_count) > 10000 and float(playlist_subscribed_count) > 1000 \\\n",
    "                and is_last_time(playlist_update_time):\n",
    "            w = 1.1\n",
    "        rating = float(song_popularity) * w\n",
    "        rating = clip(rating / 10, 1, 10)\n",
    "\n",
    "        # 返回最终结果\n",
    "        return ','.join([playlist_id, song_id, str(rating), playlist_update_time])\n",
    "    except Exception as e:\n",
    "        # print(e)\n",
    "        # print(song_info)\n",
    "        return ''\n"
   ]
  },
  {
   "cell_type": "code",
   "execution_count": 6,
   "metadata": {},
   "outputs": [],
   "source": [
    "def parse_playlist_song_rating_file(in_file, out_file):\n",
    "    \"\"\"\n",
    "    将原始数据转换为MovieLens数据，并输出到文件中\n",
    "    :param in_file:\n",
    "    :param out_file:\n",
    "    :return:\n",
    "    \"\"\"\n",
    "    with open(out_file, 'w', encoding='UTF-8') as writer:\n",
    "        with open(in_file, 'r', encoding='UTF-8') as reader:\n",
    "            for line in reader:\n",
    "                # 获取歌单信息\n",
    "                contents = line.strip().split(\"\\t\")\n",
    "                user_id, playlist_id, playlist_name, playlist_update_time, playlist_subscribed_count, playlist_play_count = \\\n",
    "                    contents[0].split(\"##\")\n",
    "                playlist_song_info = map(\n",
    "                    lambda x: parse_playlist_song_rating(playlist_id, playlist_subscribed_count, playlist_play_count,\n",
    "                                                         playlist_update_time, x), contents[1:])\n",
    "                playlist_song_info = filter(lambda x: len(x.split(\",\")) > 2, playlist_song_info)\n",
    "\n",
    "                # 获取输出信息\n",
    "                result = \"\\n\".join(playlist_song_info)\n",
    "                if result:\n",
    "                    writer.writelines(result)\n",
    "                    writer.writelines('\\n')\n"
   ]
  },
  {
   "cell_type": "code",
   "execution_count": 7,
   "metadata": {},
   "outputs": [],
   "source": [
    "def parse_playlist_song_id_2_name(in_file, out_playlist_file, out_song_file):\n",
    "    \"\"\"\n",
    "    需要保存 歌单id=>歌单名 和 歌曲id=>歌曲名 的信息后期备用。\n",
    "    :param in_file: 初步提取数据后的文件\n",
    "    :param out_playlist_file:\n",
    "    :param out_song_file:\n",
    "    :return:\n",
    "    \"\"\"\n",
    "    # 歌单id和歌单名称的映射字段\n",
    "    playlist_id_2_name_dict = {}\n",
    "    # 歌曲id和歌曲名称的映射字段\n",
    "    song_id_2_name_dict = {}\n",
    "\n",
    "    # 处理数据\n",
    "    with open(in_file, 'r', encoding='UTF-8') as reader:\n",
    "        for line in reader:\n",
    "            try:\n",
    "                # 获取歌单信息\n",
    "                contents = line.strip().split(\"\\t\")\n",
    "                _, playlist_id, playlist_name, _, _, _ = contents[0].split(\"##\")\n",
    "                playlist_id_2_name_dict[playlist_id] = playlist_name\n",
    "\n",
    "                # 获取歌曲信息\n",
    "                for song in contents[1:]:\n",
    "                    try:\n",
    "                        song_id, song_name, _ = song.split('::::')\n",
    "                        song_id_2_name_dict[song_id] = song_name\n",
    "                    except:\n",
    "                        print(\"song format error:\", end=song + '\\n')\n",
    "            except:\n",
    "                print('playlist format error:', end=line + '\\n')\n",
    "\n",
    "    # 进行数据输出（输出形成二进制文件）\n",
    "    with open(out_playlist_file, 'wb') as playlist_writer:\n",
    "        pickle.dump(playlist_id_2_name_dict, playlist_writer)\n",
    "    with open(out_song_file, 'wb') as song_writer:\n",
    "        pickle.dump(song_id_2_name_dict, song_writer)\n"
   ]
  },
  {
   "cell_type": "code",
   "execution_count": 8,
   "metadata": {},
   "outputs": [],
   "source": [
    "# 定义相关变量\n",
    "song_file_path = './datas/playlist_detail_music_99.json'\n",
    "music_playlist_song_file_path = './datas/163_music_playlist.txt'\n",
    "music_playlist_song_suprise_format_file_path = './datas/163_music_playlist_song_suprise_format.txt'\n",
    "playlist_pkl_file_path = \"./datas/playlist.pkl\"\n",
    "song_pkl_file_path = \"./datas/song.pkl\""
   ]
  },
  {
   "cell_type": "code",
   "execution_count": 9,
   "metadata": {},
   "outputs": [],
   "source": [
    "# 数据初步处理\n",
    "parse_playlist_file(song_file_path, music_playlist_song_file_path)"
   ]
  },
  {
   "cell_type": "code",
   "execution_count": 10,
   "metadata": {},
   "outputs": [],
   "source": [
    "# 构建评分矩阵\n",
    "parse_playlist_song_rating_file(music_playlist_song_file_path, music_playlist_song_suprise_format_file_path)"
   ]
  },
  {
   "cell_type": "code",
   "execution_count": 11,
   "metadata": {},
   "outputs": [],
   "source": [
    "# 提取歌单id->歌单名称；歌曲id->歌曲名称的映射信息\n",
    "parse_playlist_song_id_2_name(music_playlist_song_file_path, playlist_pkl_file_path, song_pkl_file_path)"
   ]
  },
  {
   "cell_type": "code",
   "execution_count": null,
   "metadata": {
    "collapsed": true
   },
   "outputs": [],
   "source": []
  }
 ],
 "metadata": {
  "kernelspec": {
   "display_name": "Python 3",
   "language": "python",
   "name": "python3"
  },
  "language_info": {
   "codemirror_mode": {
    "name": "ipython",
    "version": 3
   },
   "file_extension": ".py",
   "mimetype": "text/x-python",
   "name": "python",
   "nbconvert_exporter": "python",
   "pygments_lexer": "ipython3",
   "version": "3.6.4"
  }
 },
 "nbformat": 4,
 "nbformat_minor": 2
}
