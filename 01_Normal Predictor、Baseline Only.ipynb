{
 "cells": [
  {
   "cell_type": "code",
   "execution_count": 10,
   "metadata": {
    "collapsed": true
   },
   "outputs": [],
   "source": [
    "# 导入包\n",
    "import os\n",
    "import surprise\n",
    "from surprise import Dataset, Reader\n",
    "from surprise import NormalPredictor, BaselineOnly\n",
    "from surprise import evaluate, print_perf"
   ]
  },
  {
   "cell_type": "code",
   "execution_count": 11,
   "metadata": {},
   "outputs": [
    {
     "name": "stdout",
     "output_type": "stream",
     "text": [
      "Help on method load_builtin in module surprise.dataset:\n",
      "\n",
      "load_builtin(name='ml-100k') method of builtins.type instance\n",
      "    Load a built-in dataset.\n",
      "    \n",
      "    If the dataset has not already been loaded, it will be downloaded and\n",
      "    saved. You will have to split your dataset using the :meth:`split\n",
      "    <DatasetAutoFolds.split>` method. See an example in the :ref:`User\n",
      "    Guide <cross_validate_example>`.\n",
      "    \n",
      "    Args:\n",
      "        name(:obj:`string`): The name of the built-in dataset to load.\n",
      "            Accepted values are 'ml-100k', 'ml-1m', and 'jester'.\n",
      "            Default is 'ml-100k'.\n",
      "    \n",
      "    Returns:\n",
      "        A :obj:`Dataset` object.\n",
      "    \n",
      "    Raises:\n",
      "        ValueError: If the ``name`` parameter is incorrect.\n",
      "\n"
     ]
    }
   ],
   "source": [
    "help(Dataset.load_builtin)"
   ]
  },
  {
   "cell_type": "markdown",
   "metadata": {},
   "source": [
    "## 基本的用法"
   ]
  },
  {
   "cell_type": "code",
   "execution_count": 12,
   "metadata": {},
   "outputs": [],
   "source": [
    "# 方式二：加载指定数据集\n",
    "# 导入自己的数据集/实际工作中导入业务数据集\n",
    "## 直接读取文件\n",
    "# 指定文件所在的路径(要求给定的文件中只有数据，没有列)\n",
    "file_path = os.path.expanduser('./datas/ratings.csv')\n",
    "# 必须给定数据格式(必须给定一个数据读取器，告诉如何读取数据)\n",
    "reader = Reader(line_format='user item rating timestamp', sep=',')\n",
    "# 加载数据\n",
    "data = Dataset.load_from_file(file_path, reader=reader)"
   ]
  },
  {
   "cell_type": "code",
   "execution_count": 13,
   "metadata": {},
   "outputs": [],
   "source": [
    "# 方式一：加载模式数据（这种方式会从网络上下载数据，速度比较慢）\n",
    "# 导入surprise默认携带的数据(Movieline数据)\n",
    "# 默认加载数据，会提示需要下载数据，当数据已经存在的时候就不需要下载啦\n",
    "# 支持三种参数：'ml-100k', 'ml-1m', and 'jester'\n",
    "data = Dataset.load_builtin('ml-100k')"
   ]
  },
  {
   "cell_type": "code",
   "execution_count": 14,
   "metadata": {
    "collapsed": true
   },
   "outputs": [],
   "source": [
    "# 可以通过手动的进行数据切分，产生和机器学习交叉验证类似的效果\n",
    "data.split(n_folds=3)"
   ]
  },
  {
   "cell_type": "markdown",
   "metadata": {},
   "source": [
    "## 基于统计的推荐算法\n",
    "\n",
    "Normal Predictor：核心思想是认为用户对于物品评分是服从高斯分布的一个随机过程"
   ]
  },
  {
   "cell_type": "code",
   "execution_count": 15,
   "metadata": {
    "scrolled": false
   },
   "outputs": [
    {
     "name": "stdout",
     "output_type": "stream",
     "text": [
      "Evaluating RMSE, MAE, FCP of algorithm NormalPredictor.\n",
      "\n",
      "------------\n",
      "Fold 1\n",
      "RMSE: 1.5230\n",
      "MAE:  1.2243\n",
      "FCP:  0.4950\n",
      "------------\n",
      "Fold 2\n",
      "RMSE: 1.5231\n",
      "MAE:  1.2205\n",
      "FCP:  0.4958\n",
      "------------\n",
      "Fold 3\n",
      "RMSE: 1.5126\n",
      "MAE:  1.2143\n",
      "FCP:  0.5021\n",
      "------------\n",
      "------------\n",
      "Mean RMSE: 1.5195\n",
      "Mean MAE : 1.2197\n",
      "Mean FCP : 0.4976\n",
      "------------\n",
      "------------\n",
      "        Fold 1  Fold 2  Fold 3  Mean    \n",
      "RMSE    1.5230  1.5231  1.5126  1.5195  \n",
      "MAE     1.2243  1.2205  1.2143  1.2197  \n",
      "FCP     0.4950  0.4958  0.5021  0.4976  \n"
     ]
    }
   ],
   "source": [
    "# 构建模型对象\n",
    "algo = NormalPredictor()\n",
    "\n",
    "# 模型训练\n",
    "pref = evaluate(algo=algo, data=data, measures=['RMSE', 'MAE', 'FCP'])\n",
    "\n",
    "# 输出最终结果值（评估指标）\n",
    "print_perf(pref)"
   ]
  },
  {
   "cell_type": "code",
   "execution_count": 16,
   "metadata": {
    "scrolled": true
   },
   "outputs": [
    {
     "name": "stdout",
     "output_type": "stream",
     "text": [
      "用户1对于物品2的评分:3.595\n",
      "用户1对于物品3的评分:2.153\n"
     ]
    }
   ],
   "source": [
    "# 直接返回随机的评分值\n",
    "print(\"用户1对于物品2的评分:%.3f\" % algo.predict(\"1\", \"2\").est)\n",
    "print(\"用户1对于物品3的评分:%.3f\" % algo.predict(\"1\", \"3\").est)"
   ]
  },
  {
   "cell_type": "markdown",
   "metadata": {},
   "source": [
    "## 基于统计的基线推荐算法\n",
    "\n",
    "Baseline Only:算法的思想是认为用户u对于物品i的评分，是相对于平均评分μ的一个偏移；而这个偏移体现在两个方面：<br/>\n",
    "1. 用户的差异性：用户u相对于其它用户而言，对于物品可能具有比较严格的要求或者比较宽松的要求；当具有比较严格的要求的时候，其实体现的是用户u和其它用户v相比，对于同一个物品i而言，一般r_ui < r_vi;所以可以可以通过找出用户u对所有物品的评分和全局平均评分μ之间的差值来作为用户u在评分一个新物品的时候，会给定一个相对于μ的一个分值。<br/>\n",
    "2. 物品的差异性：物品i相对于其它物品而言，物品确实可能质量/性能比较低或者比较高的；当物品i的性能/质量比其它的物品差的时候，那么就可以认为物品i的最终评分相对于其它物品应该低一点；"
   ]
  },
  {
   "cell_type": "code",
   "execution_count": 17,
   "metadata": {
    "scrolled": false
   },
   "outputs": [
    {
     "name": "stdout",
     "output_type": "stream",
     "text": [
      "Evaluating RMSE, MAE, FCP of algorithm BaselineOnly.\n",
      "\n",
      "------------\n",
      "Fold 1\n",
      "Estimating biases using sgd...\n",
      "RMSE: 0.9463\n",
      "MAE:  0.7489\n",
      "FCP:  0.6965\n",
      "------------\n",
      "Fold 2\n",
      "Estimating biases using sgd...\n",
      "RMSE: 0.9469\n",
      "MAE:  0.7507\n",
      "FCP:  0.7047\n",
      "------------\n",
      "Fold 3\n",
      "Estimating biases using sgd...\n",
      "RMSE: 0.9433\n",
      "MAE:  0.7436\n",
      "FCP:  0.7023\n",
      "------------\n",
      "------------\n",
      "Mean RMSE: 0.9455\n",
      "Mean MAE : 0.7477\n",
      "Mean FCP : 0.7012\n",
      "------------\n",
      "------------\n"
     ]
    }
   ],
   "source": [
    "# BaselineOnly的基本用法\n",
    "bsl_options = {\n",
    "    'method':'als', # 指定使用何种方式进行计算，默认为als，可选sgd\n",
    "    'n_epochs':10, # 迭代次数\n",
    "    'reg_i':25, # b_i计算过程中的正则化项，也就是ppt上的那个λ_2\n",
    "    'reg_u':10 # b_u计算过程中的正则化项，也就是ppt上的那个λ_3\n",
    "}\n",
    "bsl_options = {\n",
    "    'method':'sgd', \n",
    "    'n_epochs':10, # 迭代次数\n",
    "    'reg':0.02, # 正则化系数\n",
    "    'learning_rate':0.01 # 学习率，这个和机器学习一样，一般选一个比较小的值\n",
    "}\n",
    "algo = BaselineOnly(bsl_options=bsl_options)\n",
    "\n",
    "# 模型训练\n",
    "pref = evaluate(algo=algo, data=data, measures=['RMSE', 'MAE', 'FCP'])"
   ]
  },
  {
   "cell_type": "code",
   "execution_count": 9,
   "metadata": {},
   "outputs": [
    {
     "name": "stdout",
     "output_type": "stream",
     "text": [
      "user: 1          item: 1061       r_ui = 3.00   est = 3.11   {'was_impossible': False}\n"
     ]
    }
   ],
   "source": [
    "# 获取用户u和物品i之间的推荐系统计算出来的评分\n",
    "print(algo.predict(\"1\", \"1061\", 3.0))\n",
    "# 备注：如果使用algo.estimate进行评分获取的，需要我们将id转换为内部id才可以进行数据读取操作"
   ]
  },
  {
   "cell_type": "code",
   "execution_count": null,
   "metadata": {
    "collapsed": true
   },
   "outputs": [],
   "source": []
  }
 ],
 "metadata": {
  "kernelspec": {
   "display_name": "Python 3",
   "language": "python",
   "name": "python3"
  },
  "language_info": {
   "codemirror_mode": {
    "name": "ipython",
    "version": 3
   },
   "file_extension": ".py",
   "mimetype": "text/x-python",
   "name": "python",
   "nbconvert_exporter": "python",
   "pygments_lexer": "ipython3",
   "version": "3.6.4"
  }
 },
 "nbformat": 4,
 "nbformat_minor": 2
}
